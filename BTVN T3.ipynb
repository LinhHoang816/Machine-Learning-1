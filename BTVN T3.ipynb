{
 "cells": [
  {
   "cell_type": "code",
   "execution_count": null,
   "id": "31b9d8ee",
   "metadata": {},
   "outputs": [],
   "source": [
    "#Hoang Dieu Linh \n",
    "#ID 1120227"
   ]
  },
  {
   "cell_type": "markdown",
   "id": "6018cb3c",
   "metadata": {},
   "source": [
    "# Exercise 2"
   ]
  },
  {
   "cell_type": "code",
   "execution_count": 3,
   "id": "d2429550",
   "metadata": {},
   "outputs": [
    {
     "name": "stdout",
     "output_type": "stream",
     "text": [
      "[7924754.16918083]\n",
      "[7624773.94282294]\n",
      "[7402835.9568663]\n",
      "[7238635.19381769]\n",
      "[7117149.59236285]\n",
      "[7027265.52867931]\n",
      "[6960760.91979959]\n",
      "[6911552.90297762]\n",
      "[6875141.25371626]\n",
      "[6848196.61520277]\n",
      "[6828255.86214338]\n",
      "[6813496.7247863]\n",
      "[6802571.05123006]\n",
      "[6794481.45151766]\n",
      "[6788490.03645036]\n",
      "[6784050.90072223]\n",
      "[6780760.17258185]\n",
      "[6778319.05956501]\n",
      "[6776506.50898267]\n",
      "[6775158.98159881]\n",
      "[6774155.48778948]\n",
      "[6773406.51699158]\n",
      "[6772845.84748589]\n",
      "[6772424.48710944]\n",
      "[6772106.19047232]\n",
      "[6771864.14250432]\n",
      "[6771678.50487587]\n",
      "[6771534.60079081]\n",
      "[6771421.57205942]\n",
      "[6771331.38557404]\n",
      "[6771258.09827966]\n",
      "[6771197.31338437]\n",
      "[6771145.77805288]\n",
      "[6771101.08577203]\n",
      "[6771061.45615491]\n",
      "[6771025.57203535]\n",
      "[6770992.45894728]\n",
      "[6770961.39596105]\n",
      "[6770931.84971838]\n",
      "[6770903.42563005]\n",
      "[6770875.83177099]\n",
      "[6770848.85216918]\n",
      "[6770822.32704413]\n",
      "[6770796.13818704]\n",
      "[6770770.19814464]\n",
      "[6770744.44221723]\n",
      "[6770718.82253869]\n",
      "[6770693.30369668]\n",
      "[6770667.85949244]\n",
      "[6770642.47054362]\n",
      "[6770617.12251074]\n",
      "[6770591.80478517]\n",
      "[6770566.50951844]\n",
      "[6770541.23090408]\n",
      "[6770515.96464636]\n",
      "[6770490.70756721]\n",
      "[6770465.45731542]\n",
      "[6770440.21215152]\n",
      "[6770414.97078862]\n",
      "[6770389.73227465]\n",
      "[6770364.49590526]\n",
      "[6770339.26115934]\n",
      "[6770314.02765136]\n",
      "[6770288.79509612]\n",
      "[6770263.5632826]\n",
      "[6770238.33205469]\n",
      "[6770213.10129691]\n",
      "[6770187.87092381]\n",
      "[6770162.64087217]\n",
      "[6770137.41109523]\n",
      "[6770112.18155839]\n",
      "[6770086.95223605]\n",
      "[6770061.72310927]\n",
      "[6770036.49416404]\n",
      "[6770011.26539001]\n",
      "[6769986.03677949]\n",
      "[6769960.80832682]\n",
      "[6769935.58002779]\n",
      "[6769910.35187931]\n",
      "[6769885.12387906]\n",
      "[6769859.89602536]\n",
      "[6769834.66831695]\n",
      "[6769809.44075289]\n",
      "[6769784.21333249]\n",
      "[6769758.98605525]\n",
      "[6769733.75892079]\n",
      "[6769708.53192883]\n",
      "[6769683.30507915]\n",
      "[6769658.07837162]\n",
      "[6769632.8518061]\n",
      "[6769607.62538253]\n",
      "[6769582.39910084]\n",
      "[6769557.17296097]\n",
      "[6769531.94696291]\n",
      "[6769506.72110661]\n",
      "[6769481.49539206]\n",
      "[6769456.26981925]\n",
      "[6769431.04438817]\n",
      "[6769405.8190988]\n"
     ]
    },
    {
     "data": {
      "image/png": "[encoded data removed]",
      "text/plain": [
       "<Figure size 432x288 with 1 Axes>"
      ]
     },
     "metadata": {
      "needs_background": "light"
     },
     "output_type": "display_data"
    },
    {
     "name": "stdout",
     "output_type": "stream",
     "text": [
      "Giá nhà cho 50 m^2 là :  [252.89316042]\n",
      "Giá nhà cho 100 m^2 là :  [506.22695496]\n",
      "Giá nhà cho 150 m^2 là :  [759.56074949]\n"
     ]
    }
   ],
   "source": [
    "import numpy as np\n",
    "import pandas as pd\n",
    "import matplotlib.pyplot as plt\n",
    "import requests\n",
    "url = 'https://raw.githubusercontent.com/nttuan8/DL_Tutorial/master/L1/data_square.csv'\n",
    "res = requests.get(url, allow_redirects=True)\n",
    "with open('data_linear.csv','wb') as file:\n",
    "    file.write(res.content)\n",
    "data = pd.read_csv('data_linear.csv').values\n",
    "N = data.shape[0]\n",
    "x = data[:, 0].reshape(-1, 1)\n",
    "y = data[:, 1].reshape(-1, 1)\n",
    "plt.scatter(x, y)\n",
    "plt.xlabel('mét vuông')\n",
    "plt.ylabel('giá')\n",
    "\n",
    "x = np.hstack((np.ones((N, 1)), x))\n",
    "\n",
    "w = np.array([0.,1.]).reshape(-1,1)\n",
    "\n",
    "numOfIteration = 100\n",
    "cost = np.zeros((numOfIteration,1))\n",
    "learning_rate = 0.000001\n",
    "for i in range(1, numOfIteration):\n",
    "    r = np.dot(x, w) - y\n",
    "    cost[i] = 0.5*np.sum(r*r)\n",
    "    w[0] -= learning_rate*np.sum(r)\n",
    "    # correct the shape dimension\n",
    "    w[1] -= learning_rate*np.sum(np.multiply(r, x[:,1].reshape(-1,1)))\n",
    "    print(cost[i])\n",
    "predict = np.dot(x, w)\n",
    "plt.plot((x[0][1], x[N-1][1]),(predict[0], predict[N-1]), 'r')\n",
    "plt.show()\n",
    "\n",
    "x1 = 50\n",
    "y1 = w[0] + w[1] * 50\n",
    "print('Giá nhà cho 50 m^2 là : ', y1)\n",
    "y2 = w[0] + w[1] * 100\n",
    "print('Giá nhà cho 100 m^2 là : ', y2)\n",
    "y3 = w[0] + w[1] * 150\n",
    "print('Giá nhà cho 150 m^2 là : ', y3)"
   ]
  },
  {
   "cell_type": "markdown",
   "id": "209cdbfa",
   "metadata": {},
   "source": [
    "# Excercise 3"
   ]
  },
  {
   "cell_type": "code",
   "execution_count": 1,
   "id": "825ee675",
   "metadata": {},
   "outputs": [],
   "source": [
    "import pandas as pd\n",
    "import numpy as np\n",
    "import matplotlib.pyplot as plt\n",
    "import seaborn as sns\n",
    "%matplotlib inline"
   ]
  },
  {
   "cell_type": "code",
   "execution_count": 7,
   "id": "f3a2a239",
   "metadata": {
    "scrolled": true
   },
   "outputs": [
    {
     "name": "stderr",
     "output_type": "stream",
     "text": [
      "C:\\Users\\linhh\\anaconda3\\lib\\site-packages\\sklearn\\utils\\deprecation.py:87: FutureWarning: Function load_boston is deprecated; `load_boston` is deprecated in 1.0 and will be removed in 1.2.\n",
      "\n",
      "    The Boston housing prices dataset has an ethical problem. You can refer to\n",
      "    the documentation of this function for further details.\n",
      "\n",
      "    The scikit-learn maintainers therefore strongly discourage the use of this\n",
      "    dataset unless the purpose of the code is to study and educate about\n",
      "    ethical issues in data science and machine learning.\n",
      "\n",
      "    In this special case, you can fetch the dataset from the original\n",
      "    source::\n",
      "\n",
      "        import pandas as pd\n",
      "        import numpy as np\n",
      "\n",
      "\n",
      "        data_url = \"http://lib.stat.cmu.edu/datasets/boston\"\n",
      "        raw_df = pd.read_csv(data_url, sep=\"\\s+\", skiprows=22, header=None)\n",
      "        data = np.hstack([raw_df.values[::2, :], raw_df.values[1::2, :2]])\n",
      "        target = raw_df.values[1::2, 2]\n",
      "\n",
      "    Alternative datasets include the California housing dataset (i.e.\n",
      "    :func:`~sklearn.datasets.fetch_california_housing`) and the Ames housing\n",
      "    dataset. You can load the datasets as follows::\n",
      "\n",
      "        from sklearn.datasets import fetch_california_housing\n",
      "        housing = fetch_california_housing()\n",
      "\n",
      "    for the California housing dataset and::\n",
      "\n",
      "        from sklearn.datasets import fetch_openml\n",
      "        housing = fetch_openml(name=\"house_prices\", as_frame=True)\n",
      "\n",
      "    for the Ames housing dataset.\n",
      "    \n",
      "  warnings.warn(msg, category=FutureWarning)\n"
     ]
    },
    {
     "data": {
      "text/html": [
       "<div>\n",
       "<style scoped>\n",
       "    .dataframe tbody tr th:only-of-type {\n",
       "        vertical-align: middle;\n",
       "    }\n",
       "\n",
       "    .dataframe tbody tr th {\n",
       "        vertical-align: top;\n",
       "    }\n",
       "\n",
       "    .dataframe thead th {\n",
       "        text-align: right;\n",
       "    }\n",
       "</style>\n",
       "<table border=\"1\" class=\"dataframe\">\n",
       "  <thead>\n",
       "    <tr style=\"text-align: right;\">\n",
       "      <th></th>\n",
       "      <th>CRIM</th>\n",
       "      <th>ZN</th>\n",
       "      <th>INDUS</th>\n",
       "      <th>CHAS</th>\n",
       "      <th>NOX</th>\n",
       "      <th>RM</th>\n",
       "      <th>AGE</th>\n",
       "      <th>DIS</th>\n",
       "      <th>RAD</th>\n",
       "      <th>TAX</th>\n",
       "      <th>PTRATIO</th>\n",
       "      <th>B</th>\n",
       "      <th>LSTAT</th>\n",
       "      <th>Price</th>\n",
       "    </tr>\n",
       "  </thead>\n",
       "  <tbody>\n",
       "    <tr>\n",
       "      <th>0</th>\n",
       "      <td>0.00632</td>\n",
       "      <td>18.0</td>\n",
       "      <td>2.31</td>\n",
       "      <td>0.0</td>\n",
       "      <td>0.538</td>\n",
       "      <td>6.575</td>\n",
       "      <td>65.2</td>\n",
       "      <td>4.0900</td>\n",
       "      <td>1.0</td>\n",
       "      <td>296.0</td>\n",
       "      <td>15.3</td>\n",
       "      <td>396.90</td>\n",
       "      <td>4.98</td>\n",
       "      <td>24.0</td>\n",
       "    </tr>\n",
       "    <tr>\n",
       "      <th>1</th>\n",
       "      <td>0.02731</td>\n",
       "      <td>0.0</td>\n",
       "      <td>7.07</td>\n",
       "      <td>0.0</td>\n",
       "      <td>0.469</td>\n",
       "      <td>6.421</td>\n",
       "      <td>78.9</td>\n",
       "      <td>4.9671</td>\n",
       "      <td>2.0</td>\n",
       "      <td>242.0</td>\n",
       "      <td>17.8</td>\n",
       "      <td>396.90</td>\n",
       "      <td>9.14</td>\n",
       "      <td>21.6</td>\n",
       "    </tr>\n",
       "    <tr>\n",
       "      <th>2</th>\n",
       "      <td>0.02729</td>\n",
       "      <td>0.0</td>\n",
       "      <td>7.07</td>\n",
       "      <td>0.0</td>\n",
       "      <td>0.469</td>\n",
       "      <td>7.185</td>\n",
       "      <td>61.1</td>\n",
       "      <td>4.9671</td>\n",
       "      <td>2.0</td>\n",
       "      <td>242.0</td>\n",
       "      <td>17.8</td>\n",
       "      <td>392.83</td>\n",
       "      <td>4.03</td>\n",
       "      <td>34.7</td>\n",
       "    </tr>\n",
       "    <tr>\n",
       "      <th>3</th>\n",
       "      <td>0.03237</td>\n",
       "      <td>0.0</td>\n",
       "      <td>2.18</td>\n",
       "      <td>0.0</td>\n",
       "      <td>0.458</td>\n",
       "      <td>6.998</td>\n",
       "      <td>45.8</td>\n",
       "      <td>6.0622</td>\n",
       "      <td>3.0</td>\n",
       "      <td>222.0</td>\n",
       "      <td>18.7</td>\n",
       "      <td>394.63</td>\n",
       "      <td>2.94</td>\n",
       "      <td>33.4</td>\n",
       "    </tr>\n",
       "    <tr>\n",
       "      <th>4</th>\n",
       "      <td>0.06905</td>\n",
       "      <td>0.0</td>\n",
       "      <td>2.18</td>\n",
       "      <td>0.0</td>\n",
       "      <td>0.458</td>\n",
       "      <td>7.147</td>\n",
       "      <td>54.2</td>\n",
       "      <td>6.0622</td>\n",
       "      <td>3.0</td>\n",
       "      <td>222.0</td>\n",
       "      <td>18.7</td>\n",
       "      <td>396.90</td>\n",
       "      <td>5.33</td>\n",
       "      <td>36.2</td>\n",
       "    </tr>\n",
       "  </tbody>\n",
       "</table>\n",
       "</div>"
      ],
      "text/plain": [
       "      CRIM    ZN  INDUS  CHAS    NOX     RM   AGE     DIS  RAD    TAX  \\\n",
       "0  0.00632  18.0   2.31   0.0  0.538  6.575  65.2  4.0900  1.0  296.0   \n",
       "1  0.02731   0.0   7.07   0.0  0.469  6.421  78.9  4.9671  2.0  242.0   \n",
       "2  0.02729   0.0   7.07   0.0  0.469  7.185  61.1  4.9671  2.0  242.0   \n",
       "3  0.03237   0.0   2.18   0.0  0.458  6.998  45.8  6.0622  3.0  222.0   \n",
       "4  0.06905   0.0   2.18   0.0  0.458  7.147  54.2  6.0622  3.0  222.0   \n",
       "\n",
       "   PTRATIO       B  LSTAT  Price  \n",
       "0     15.3  396.90   4.98   24.0  \n",
       "1     17.8  396.90   9.14   21.6  \n",
       "2     17.8  392.83   4.03   34.7  \n",
       "3     18.7  394.63   2.94   33.4  \n",
       "4     18.7  396.90   5.33   36.2  "
      ]
     },
     "execution_count": 7,
     "metadata": {},
     "output_type": "execute_result"
    }
   ],
   "source": [
    "from sklearn.datasets import load_boston\n",
    "housing_data = load_boston()\n",
    "boston = pd.DataFrame(housing_data.data)\n",
    "boston.columns = housing_data.feature_names\n",
    "boston['Price'] = housing_data.target\n",
    "boston.head()"
   ]
  },
  {
   "cell_type": "code",
   "execution_count": 8,
   "id": "f0fec893",
   "metadata": {},
   "outputs": [],
   "source": [
    "# Creating Predictor variable 'X' and Target Variable 'y'\n",
    "\n",
    "# X contains all the features except for the target value Price\n",
    "X = boston.drop('Price', axis = 1)\n",
    "y = boston['Price']"
   ]
  },
  {
   "cell_type": "code",
   "execution_count": 11,
   "id": "0eeeec2f",
   "metadata": {},
   "outputs": [
    {
     "name": "stdout",
     "output_type": "stream",
     "text": [
      "(354, 13)\n",
      "(152, 13)\n"
     ]
    }
   ],
   "source": [
    "from sklearn.model_selection import train_test_split\n",
    "X_train, X_test, y_train, y_test = train_test_split(X,y, test_size=0.3, random_state=50)\n",
    "\n",
    "# X_train contains 70% of total dataset\n",
    "print(X_train.shape)\n",
    "# X_test contains 30% of total dataset\n",
    "print(X_test.shape)"
   ]
  },
  {
   "cell_type": "markdown",
   "id": "b63851aa",
   "metadata": {},
   "source": [
    "# Creating and training Model"
   ]
  },
  {
   "cell_type": "code",
   "execution_count": 12,
   "id": "5573c76e",
   "metadata": {},
   "outputs": [
    {
     "data": {
      "text/plain": [
       "LinearRegression()"
      ]
     },
     "execution_count": 12,
     "metadata": {},
     "output_type": "execute_result"
    }
   ],
   "source": [
    "from sklearn.linear_model import LinearRegression\n",
    "lr = LinearRegression()\n",
    "#Train/fit the model to training data\n",
    "lr.fit(X_train,y_train)"
   ]
  },
  {
   "cell_type": "code",
   "execution_count": 13,
   "id": "da6beed2",
   "metadata": {},
   "outputs": [
    {
     "name": "stdout",
     "output_type": "stream",
     "text": [
      "25.46952844276329\n"
     ]
    },
    {
     "data": {
      "text/html": [
       "<div>\n",
       "<style scoped>\n",
       "    .dataframe tbody tr th:only-of-type {\n",
       "        vertical-align: middle;\n",
       "    }\n",
       "\n",
       "    .dataframe tbody tr th {\n",
       "        vertical-align: top;\n",
       "    }\n",
       "\n",
       "    .dataframe thead th {\n",
       "        text-align: right;\n",
       "    }\n",
       "</style>\n",
       "<table border=\"1\" class=\"dataframe\">\n",
       "  <thead>\n",
       "    <tr style=\"text-align: right;\">\n",
       "      <th></th>\n",
       "      <th>Coefficient</th>\n",
       "    </tr>\n",
       "  </thead>\n",
       "  <tbody>\n",
       "    <tr>\n",
       "      <th>CRIM</th>\n",
       "      <td>-0.102245</td>\n",
       "    </tr>\n",
       "    <tr>\n",
       "      <th>ZN</th>\n",
       "      <td>0.031104</td>\n",
       "    </tr>\n",
       "    <tr>\n",
       "      <th>INDUS</th>\n",
       "      <td>0.014369</td>\n",
       "    </tr>\n",
       "    <tr>\n",
       "      <th>CHAS</th>\n",
       "      <td>1.659646</td>\n",
       "    </tr>\n",
       "    <tr>\n",
       "      <th>NOX</th>\n",
       "      <td>-15.869391</td>\n",
       "    </tr>\n",
       "    <tr>\n",
       "      <th>RM</th>\n",
       "      <td>5.032224</td>\n",
       "    </tr>\n",
       "    <tr>\n",
       "      <th>AGE</th>\n",
       "      <td>-0.000716</td>\n",
       "    </tr>\n",
       "    <tr>\n",
       "      <th>DIS</th>\n",
       "      <td>-1.313538</td>\n",
       "    </tr>\n",
       "    <tr>\n",
       "      <th>RAD</th>\n",
       "      <td>0.255945</td>\n",
       "    </tr>\n",
       "    <tr>\n",
       "      <th>TAX</th>\n",
       "      <td>-0.012337</td>\n",
       "    </tr>\n",
       "    <tr>\n",
       "      <th>PTRATIO</th>\n",
       "      <td>-0.903146</td>\n",
       "    </tr>\n",
       "    <tr>\n",
       "      <th>B</th>\n",
       "      <td>0.009658</td>\n",
       "    </tr>\n",
       "    <tr>\n",
       "      <th>LSTAT</th>\n",
       "      <td>-0.422794</td>\n",
       "    </tr>\n",
       "  </tbody>\n",
       "</table>\n",
       "</div>"
      ],
      "text/plain": [
       "         Coefficient\n",
       "CRIM       -0.102245\n",
       "ZN          0.031104\n",
       "INDUS       0.014369\n",
       "CHAS        1.659646\n",
       "NOX       -15.869391\n",
       "RM          5.032224\n",
       "AGE        -0.000716\n",
       "DIS        -1.313538\n",
       "RAD         0.255945\n",
       "TAX        -0.012337\n",
       "PTRATIO    -0.903146\n",
       "B           0.009658\n",
       "LSTAT      -0.422794"
      ]
     },
     "execution_count": 13,
     "metadata": {},
     "output_type": "execute_result"
    }
   ],
   "source": [
    "# evaluate the model by checking out it's intercept and coefficients.\n",
    "# print the intercept\n",
    "print(lr.intercept_)\n",
    "\n",
    "#Coefficients\n",
    "coeff_df = pd.DataFrame(lr.coef_,X.columns,columns=['Coefficient'])\n",
    "coeff_df"
   ]
  },
  {
   "cell_type": "code",
   "execution_count": 15,
   "id": "c497ea0c",
   "metadata": {},
   "outputs": [
    {
     "data": {
      "text/plain": [
       "Text(0, 0.5, 'Predicted prices')"
      ]
     },
     "execution_count": 15,
     "metadata": {},
     "output_type": "execute_result"
    },
    {
     "data": {
      "image/png": "[encoded data removed]",
      "text/plain": [
       "<Figure size 432x288 with 1 Axes>"
      ]
     },
     "metadata": {
      "needs_background": "light"
     },
     "output_type": "display_data"
    }
   ],
   "source": [
    "#predict from model\n",
    "pred = lr.predict(X_test)\n",
    "plt.scatter(y_test,pred)\n",
    "plt.xlabel(\"Prices\")\n",
    "plt.ylabel(\"Predicted prices\")"
   ]
  },
  {
   "cell_type": "code",
   "execution_count": 16,
   "id": "aff284b1",
   "metadata": {},
   "outputs": [
    {
     "name": "stdout",
     "output_type": "stream",
     "text": [
      "MAE: 3.678977534499427\n",
      "MSE: 33.868033996670015\n",
      "RMSE: 5.819624901715747\n"
     ]
    }
   ],
   "source": [
    "#regression evaluation metrics\n",
    "from sklearn import metrics\n",
    "print('MAE:', metrics.mean_absolute_error(y_test, pred))\n",
    "print('MSE:', metrics.mean_squared_error(y_test, pred))\n",
    "print('RMSE:', np.sqrt(metrics.mean_squared_error(y_test, pred)))"
   ]
  },
  {
   "cell_type": "code",
   "execution_count": 17,
   "id": "b57a18a0",
   "metadata": {},
   "outputs": [
    {
     "data": {
      "text/plain": [
       "array([ 9.70536163e+00,  2.52526846e+01,  1.99563787e+01,  2.78890172e+01,\n",
       "        2.22739530e+01,  2.32476003e+01,  1.62794573e+01,  1.69545473e+01,\n",
       "        1.29304677e+01,  2.49423296e+01,  1.44246339e+01,  2.86653627e+01,\n",
       "        1.76944262e+01,  3.46031656e+01,  1.85769591e+01,  1.35355785e+01,\n",
       "        1.40027050e+01,  2.86569561e+01,  2.24340994e+01,  2.41506896e+01,\n",
       "        2.40056244e+01,  3.72997269e+01,  3.06816250e+01,  1.93607196e+01,\n",
       "        2.05776606e+01,  1.70641899e+01,  1.15241219e+01,  2.40849661e+01,\n",
       "        3.10697041e+01,  2.36199284e+01,  2.10421914e+01,  5.88252060e+00,\n",
       "        3.03053885e+01,  3.63167383e+01,  2.16908598e+01,  3.23510449e+01,\n",
       "        3.46814402e+01,  2.07641740e+01,  2.85939847e+01,  4.01152089e+01,\n",
       "        3.98810686e+01,  1.27048376e+01,  2.06620305e+01,  2.52423966e+01,\n",
       "        2.08504892e+00,  1.46209833e+01,  2.22242105e+01,  3.48031883e+01,\n",
       "        2.60939130e+01,  2.16408781e+01,  3.03883691e+01,  2.52756205e+01,\n",
       "        1.50906276e+01,  2.04822728e+01,  2.48316937e+01,  2.15818416e+01,\n",
       "        3.27327376e+01,  2.49673492e+01,  1.96559820e+01,  1.94181540e+01,\n",
       "        1.54860265e+01,  2.06088185e+01,  1.56836865e+01,  2.30778946e+01,\n",
       "        1.98599509e+01,  1.97774834e+01,  1.61235210e+01,  2.20900915e+01,\n",
       "        2.56316041e+01,  2.01015214e+01,  2.95625893e+01,  5.74795600e+00,\n",
       "        1.84521689e+01,  2.04106885e+01,  1.96577978e+01,  1.94539483e+01,\n",
       "        1.32710763e+01,  1.02168901e+01,  1.85068937e+01,  2.17780259e+01,\n",
       "        1.99860993e+01,  2.31983641e+01,  2.25794958e+01,  1.23039234e+01,\n",
       "        2.02456535e+01,  2.18938219e+01,  2.86016565e+01,  2.55310299e+01,\n",
       "        2.06318136e+01,  1.99600011e+01,  1.34458347e+01,  2.97778689e+01,\n",
       "        4.30791892e+01,  1.35395363e+01,  1.84873032e+01,  1.72899954e+01,\n",
       "        1.75235601e+01,  3.34389641e+01,  1.74454005e+01,  1.88474345e+01,\n",
       "        2.88263461e+01,  2.55005530e+01,  1.74530637e+01, -4.19072760e-02,\n",
       "        3.20231880e+01,  1.84809742e+01,  6.41455044e+00,  1.79910842e+01,\n",
       "        4.37173634e+01,  5.40379969e+00,  8.12654589e+00,  1.82770198e+01,\n",
       "        1.68842205e+01,  1.47555178e+01,  3.13539390e+01,  2.17597521e+01,\n",
       "        1.53346080e+01,  1.35451594e+01,  2.29584496e+01,  1.63791791e+01,\n",
       "        2.68814823e+01,  1.98017311e+01,  3.07462206e+01,  2.52901883e+01,\n",
       "        3.81225022e+01,  1.29112209e+01,  3.31915644e+01,  2.24917314e+01,\n",
       "        3.69708105e+01,  2.03344945e+01,  1.83056148e+01,  1.79813410e+01,\n",
       "        3.51945554e+01,  3.14889808e+01,  3.12541618e+01,  1.32690734e+01,\n",
       "        3.05596315e+01,  2.14933743e+01,  3.56054567e+01,  1.98825083e+01,\n",
       "        2.31883925e+01,  2.22442205e+01,  3.30287830e+01,  2.21432207e+01,\n",
       "        3.95552281e+01,  3.42613507e+01,  9.38024708e-01,  4.17942290e+01,\n",
       "        1.31201591e+01,  1.93514799e+01,  1.55282134e+01,  3.81317230e+01])"
      ]
     },
     "execution_count": 17,
     "metadata": {},
     "output_type": "execute_result"
    }
   ],
   "source": [
    "pred"
   ]
  }
 ],
 "metadata": {
  "kernelspec": {
   "display_name": "Python 3 (ipykernel)",
   "language": "python",
   "name": "python3"
  },
  "language_info": {
   "codemirror_mode": {
    "name": "ipython",
    "version": 3
   },
   "file_extension": ".py",
   "mimetype": "text/x-python",
   "name": "python",
   "nbconvert_exporter": "python",
   "pygments_lexer": "ipython3",
   "version": "3.9.12"
  }
 },
 "nbformat": 4,
 "nbformat_minor": 5
}
